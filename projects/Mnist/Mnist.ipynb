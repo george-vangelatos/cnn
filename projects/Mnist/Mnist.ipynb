{
 "metadata": {
  "language_info": {
   "codemirror_mode": {
    "name": "ipython",
    "version": 3
   },
   "file_extension": ".py",
   "mimetype": "text/x-python",
   "name": "python",
   "nbconvert_exporter": "python",
   "pygments_lexer": "ipython3",
   "version": "3.8.3-final"
  },
  "orig_nbformat": 2,
  "kernelspec": {
   "name": "Python 3.8.3 64-bit ('base': conda)",
   "display_name": "Python 3.8.3 64-bit ('base': conda)",
   "metadata": {
    "interpreter": {
     "hash": "05e5263a5b3128ff67a7c8b075ff25752474a0d33381b4218d5af07966bbb998"
    }
   }
  }
 },
 "nbformat": 4,
 "nbformat_minor": 2,
 "cells": [
  {
   "cell_type": "code",
   "execution_count": 1,
   "metadata": {},
   "outputs": [],
   "source": [
    "# imports\n",
    "import sys\n",
    "import numpy as np\n",
    "sys.path.append('..\\..') # hack to make cnn project imports work\n",
    "from Network import Network \n",
    "from Main import TestNetwork, TrainNetwork\n",
    "from HyperParameters import HyperParameters\n",
    "\n",
    "# set training parameters\n",
    "params = HyperParameters(eta=0.05, L2=0.0001, mu=0.25, batch_size=11) # set hyper-parameters\n",
    "total_epochs = 10 # number of training epochs to run"
   ]
  },
  {
   "cell_type": "code",
   "execution_count": 2,
   "metadata": {},
   "outputs": [],
   "source": [
    "# load Mnist datasets\n",
    "from Mnist import Mnist\n",
    "ds_tr, ds_va, ds_te = Mnist.Load('data')"
   ]
  },
  {
   "cell_type": "code",
   "execution_count": 3,
   "metadata": {},
   "outputs": [],
   "source": [
    "net = Network('nn_in.json', params) # load network from file"
   ]
  },
  {
   "cell_type": "code",
   "execution_count": 10,
   "metadata": {},
   "outputs": [
    {
     "output_type": "stream",
     "name": "stdout",
     "text": [
      "Training data: 97.89%\n",
      "Test data: 97.65%\n"
     ]
    }
   ],
   "source": [
    "# test network against data sets\n",
    "n_correct = TestNetwork(net, ds_tr) # test using training data\n",
    "print('Training data: {:.2%}'.format(n_correct/ds_tr.num)) # display results\n",
    "n_correct = TestNetwork(net, ds_te)\n",
    "print('Test data: {:.2%}'.format(n_correct/ds_te.num)) # display results"
   ]
  },
  {
   "cell_type": "code",
   "execution_count": 9,
   "metadata": {},
   "outputs": [
    {
     "output_type": "stream",
     "name": "stdout",
     "text": [
      "Epoch 1 complete (0m:17s).\n",
      "Epoch 2 complete (0m:17s).\n",
      "Epoch 3 complete (0m:17s).\n",
      "Epoch 4 complete (0m:17s).\n",
      "Epoch 5 complete (0m:17s).\n",
      "Epoch 6 complete (0m:18s).\n",
      "Epoch 7 complete (0m:17s).\n",
      "Epoch 8 complete (0m:17s).\n",
      "Epoch 9 complete (0m:17s).\n",
      "Epoch 10 complete (0m:17s).\n",
      "Training over 10 epoch(s) complete (2m:56s).\n"
     ]
    }
   ],
   "source": [
    "# train network\n",
    "num_epochs = 10 # number of epochs of training\n",
    "TrainNetwork(net, ds_tr, num_epochs, params)"
   ]
  },
  {
   "cell_type": "code",
   "execution_count": 11,
   "metadata": {},
   "outputs": [],
   "source": [
    "# save network to output file\n",
    "net.Save('nn_out.json') "
   ]
  },
  {
   "cell_type": "code",
   "execution_count": null,
   "metadata": {},
   "outputs": [],
   "source": []
  }
 ]
}