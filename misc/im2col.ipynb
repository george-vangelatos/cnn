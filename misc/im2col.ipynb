{
 "metadata": {
  "language_info": {
   "codemirror_mode": {
    "name": "ipython",
    "version": 3
   },
   "file_extension": ".py",
   "mimetype": "text/x-python",
   "name": "python",
   "nbconvert_exporter": "python",
   "pygments_lexer": "ipython3",
   "version": "3.8.3-final"
  },
  "orig_nbformat": 2,
  "kernelspec": {
   "name": "python3",
   "display_name": "Python 3",
   "language": "python"
  }
 },
 "nbformat": 4,
 "nbformat_minor": 2,
 "cells": [
  {
   "source": [
    "# Using as_strided from Numpy"
   ],
   "cell_type": "markdown",
   "metadata": {}
  },
  {
   "cell_type": "code",
   "execution_count": 4,
   "metadata": {},
   "outputs": [],
   "source": [
    "import numpy as np"
   ]
  },
  {
   "cell_type": "code",
   "execution_count": 5,
   "metadata": {},
   "outputs": [
    {
     "output_type": "stream",
     "name": "stdout",
     "text": [
      "[[ 1.  2.  3.]\n [ 4.  5.  6.]\n [ 7.  8.  9.]\n [10. 11. 12.]]\n"
     ]
    }
   ],
   "source": [
    "a=np.array([[1.,2.,3.],[4.,5.,6.],[7.,8.,9.],[10.,11.,12.]])\n",
    "print(a)"
   ]
  },
  {
   "cell_type": "code",
   "execution_count": 7,
   "metadata": {},
   "outputs": [
    {
     "output_type": "stream",
     "name": "stdout",
     "text": [
      "(3, 2, 2, 2)\n[[[[ 1.  2.]\n   [ 4.  5.]]\n\n  [[ 2.  3.]\n   [ 5.  6.]]]\n\n\n [[[ 4.  5.]\n   [ 7.  8.]]\n\n  [[ 5.  6.]\n   [ 8.  9.]]]\n\n\n [[[ 7.  8.]\n   [10. 11.]]\n\n  [[ 8.  9.]\n   [11. 12.]]]]\n"
     ]
    }
   ],
   "source": [
    "b=np.lib.stride_tricks.as_strided(a, (3,2,2,2), (24,8,24,8))\n",
    "print(b.shape)\n",
    "print(b)"
   ]
  },
  {
   "cell_type": "code",
   "execution_count": 8,
   "metadata": {},
   "outputs": [
    {
     "output_type": "stream",
     "name": "stdout",
     "text": [
      "[[ 1.  2.  4.  5.]\n [ 2.  3.  5.  6.]\n [ 4.  5.  7.  8.]\n [ 5.  6.  8.  9.]\n [ 7.  8. 10. 11.]\n [ 8.  9. 11. 12.]]\n"
     ]
    }
   ],
   "source": [
    "b=b.reshape(6,4)\n",
    "print(b)"
   ]
  },
  {
   "source": [
    " # Using view_as_windows from skimage"
   ],
   "cell_type": "markdown",
   "metadata": {}
  },
  {
   "cell_type": "code",
   "execution_count": 10,
   "metadata": {},
   "outputs": [
    {
     "output_type": "stream",
     "name": "stdout",
     "text": [
      "(3, 2, 2, 2)\n[[[[ 1.  2.]\n   [ 4.  5.]]\n\n  [[ 2.  3.]\n   [ 5.  6.]]]\n\n\n [[[ 4.  5.]\n   [ 7.  8.]]\n\n  [[ 5.  6.]\n   [ 8.  9.]]]\n\n\n [[[ 7.  8.]\n   [10. 11.]]\n\n  [[ 8.  9.]\n   [11. 12.]]]]\n"
     ]
    }
   ],
   "source": [
    "from skimage.util.shape import view_as_windows\n",
    "b = view_as_windows(a, (2,2))\n",
    "print(b.shape)\n",
    "print(b)"
   ]
  },
  {
   "cell_type": "code",
   "execution_count": 11,
   "metadata": {},
   "outputs": [
    {
     "output_type": "stream",
     "name": "stdout",
     "text": [
      "[[ 1.  2.  4.  5.]\n [ 2.  3.  5.  6.]\n [ 4.  5.  7.  8.]\n [ 5.  6.  8.  9.]\n [ 7.  8. 10. 11.]\n [ 8.  9. 11. 12.]]\n"
     ]
    }
   ],
   "source": [
    "b = b.reshape(6,4)\n",
    "print(b)"
   ]
  },
  {
   "source": [
    "# Test for final implementation"
   ],
   "cell_type": "markdown",
   "metadata": {}
  },
  {
   "cell_type": "code",
   "execution_count": 10,
   "metadata": {},
   "outputs": [
    {
     "output_type": "stream",
     "name": "stdout",
     "text": [
      "[[ 1.  2.  4.  5.]\n [ 2.  3.  5.  6.]\n [ 4.  5.  7.  8.]\n [ 5.  6.  8.  9.]\n [ 7.  8. 10. 11.]\n [ 8.  9. 11. 12.]]\n"
     ]
    }
   ],
   "source": [
    "from ConvLayer import ConvLayer\n",
    "b = ConvLayer._im2col(a, (2,2))\n",
    "print(b)"
   ]
  }
 ]
}