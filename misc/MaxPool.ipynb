{
 "metadata": {
  "language_info": {
   "codemirror_mode": {
    "name": "ipython",
    "version": 3
   },
   "file_extension": ".py",
   "mimetype": "text/x-python",
   "name": "python",
   "nbconvert_exporter": "python",
   "pygments_lexer": "ipython3",
   "version": "3.8.3-final"
  },
  "orig_nbformat": 2,
  "kernelspec": {
   "name": "python3",
   "display_name": "Python 3",
   "language": "python"
  }
 },
 "nbformat": 4,
 "nbformat_minor": 2,
 "cells": [
  {
   "source": [
    "# Creating MaxPool mask and activations"
   ],
   "cell_type": "markdown",
   "metadata": {}
  },
  {
   "cell_type": "code",
   "execution_count": 51,
   "metadata": {},
   "outputs": [],
   "source": [
    "import numpy as np\n",
    "import random"
   ]
  },
  {
   "cell_type": "code",
   "execution_count": 52,
   "metadata": {},
   "outputs": [
    {
     "output_type": "stream",
     "name": "stdout",
     "text": [
      "[[ 2 22 35 14 28 15 21  4  8]\n [ 9 24 23 26  6  0 16 12  3]\n [ 7 17 31 30 11 34 29  1 10]\n [13 25 27  5 32 19 33 18 20]]\n(4, 9)\n"
     ]
    }
   ],
   "source": [
    "# create randomised input\n",
    "r,c = 4,9 # size of input\n",
    "x = list(range(r*c))\n",
    "random.shuffle(x)\n",
    "x = np.reshape(x, (r,c))\n",
    "print(x)\n",
    "print(x.shape)"
   ]
  },
  {
   "cell_type": "code",
   "execution_count": 53,
   "metadata": {},
   "outputs": [],
   "source": [
    "# calculate activations size\n",
    "pr,pc = 2,3 # pool size\n",
    "assert r % pr == 0\n",
    "assert c % pc == 0\n",
    "ar,ac = r // pr, c // pc "
   ]
  },
  {
   "cell_type": "code",
   "execution_count": 54,
   "metadata": {},
   "outputs": [
    {
     "output_type": "stream",
     "name": "stdout",
     "text": [
      "[[[[ 2 22 35]\n   [ 9 24 23]]\n\n  [[14 28 15]\n   [26  6  0]]\n\n  [[21  4  8]\n   [16 12  3]]]\n\n\n [[[ 7 17 31]\n   [13 25 27]]\n\n  [[30 11 34]\n   [ 5 32 19]]\n\n  [[29  1 10]\n   [33 18 20]]]]\n(2, 3, 2, 3)\n"
     ]
    }
   ],
   "source": [
    "# transform input into pools\n",
    "a = np.transpose(np.reshape(x, (ar,pr,ac,pc)), (0,2,1,3)) \n",
    "print(a)\n",
    "print(a.shape)"
   ]
  },
  {
   "cell_type": "code",
   "execution_count": 55,
   "metadata": {},
   "outputs": [
    {
     "output_type": "stream",
     "name": "stdout",
     "text": [
      "[[[ 2 22 35  9 24 23]\n  [14 28 15 26  6  0]\n  [21  4  8 16 12  3]]\n\n [[ 7 17 31 13 25 27]\n  [30 11 34  5 32 19]\n  [29  1 10 33 18 20]]]\n(2, 3, 6)\n"
     ]
    }
   ],
   "source": [
    "# flatten pools\n",
    "a = np.reshape(a, (ar,ac,-1))\n",
    "print(a)\n",
    "print(a.shape)"
   ]
  },
  {
   "cell_type": "code",
   "execution_count": 56,
   "metadata": {},
   "outputs": [
    {
     "output_type": "stream",
     "name": "stdout",
     "text": [
      "[[2 1 0]\n [2 2 3]]\n(2, 3)\n"
     ]
    }
   ],
   "source": [
    "# get indexes of maximum values\n",
    "i = np.argmax(a, 2)\n",
    "print(i)\n",
    "print(i.shape)"
   ]
  },
  {
   "cell_type": "code",
   "execution_count": 57,
   "metadata": {},
   "outputs": [
    {
     "output_type": "stream",
     "name": "stdout",
     "text": [
      "[[[False False  True False False False]\n  [False  True False False False False]\n  [ True False False False False False]]\n\n [[False False  True False False False]\n  [False False  True False False False]\n  [False False False  True False False]]]\n(2, 3, 6)\n"
     ]
    }
   ],
   "source": [
    "# create mask for maximum values\n",
    "m = i[:,:,None] == range(a.shape[-1])\n",
    "print(m)\n",
    "print(m.shape)"
   ]
  },
  {
   "cell_type": "code",
   "execution_count": 58,
   "metadata": {},
   "outputs": [
    {
     "output_type": "stream",
     "name": "stdout",
     "text": [
      "[[[ 0  0 35  0  0  0]\n  [ 0 28  0  0  0  0]\n  [21  0  0  0  0  0]]\n\n [[ 0  0 31  0  0  0]\n  [ 0  0 34  0  0  0]\n  [ 0  0  0 33  0  0]]]\n(2, 3, 6)\n"
     ]
    }
   ],
   "source": [
    "# apply mask to flattened pools\n",
    "a *= m\n",
    "print(a)\n",
    "print(a.shape)"
   ]
  },
  {
   "cell_type": "code",
   "execution_count": 59,
   "metadata": {},
   "outputs": [
    {
     "output_type": "stream",
     "name": "stdout",
     "text": [
      "[[35 28 21]\n [31 34 33]]\n(2, 3)\n"
     ]
    }
   ],
   "source": [
    "# sum pool values to get final activation\n",
    "a = np.sum(a, 2)\n",
    "print(a)\n",
    "print(a.shape)"
   ]
  },
  {
   "source": [
    "# Backpropagation"
   ],
   "cell_type": "markdown",
   "metadata": {}
  },
  {
   "cell_type": "code",
   "execution_count": 65,
   "metadata": {},
   "outputs": [
    {
     "output_type": "stream",
     "name": "stdout",
     "text": [
      "[[35 35 35 28 28 28 21 21 21]\n [35 35 35 28 28 28 21 21 21]\n [31 31 31 34 34 34 33 33 33]\n [31 31 31 34 34 34 33 33 33]]\n(4, 9)\n"
     ]
    }
   ],
   "source": [
    "# repeat max values within each pool\n",
    "b = np.repeat(a, pr, 0)\n",
    "b = np.repeat(b, pc, 1)\n",
    "print(b)\n",
    "print(b.shape)"
   ]
  },
  {
   "cell_type": "code",
   "execution_count": 66,
   "metadata": {},
   "outputs": [
    {
     "output_type": "stream",
     "name": "stdout",
     "text": [
      "[[[35 35 35 35 35 35]\n  [28 28 28 28 28 28]\n  [21 21 21 21 21 21]]\n\n [[31 31 31 31 31 31]\n  [34 34 34 34 34 34]\n  [33 33 33 33 33 33]]]\n(2, 3, 6)\n"
     ]
    }
   ],
   "source": [
    "# transform into flattened pools\n",
    "b = np.transpose(np.reshape(b, (ar,pr,ac,pc)), (0,2,1,3)) \n",
    "b = np.reshape(b, (ar,ac,-1))\n",
    "print(b)\n",
    "print(b.shape)"
   ]
  },
  {
   "cell_type": "code",
   "execution_count": 67,
   "metadata": {},
   "outputs": [
    {
     "output_type": "stream",
     "name": "stdout",
     "text": [
      "[[[ 0  0 35  0  0  0]\n  [ 0 28  0  0  0  0]\n  [21  0  0  0  0  0]]\n\n [[ 0  0 31  0  0  0]\n  [ 0  0 34  0  0  0]\n  [ 0  0  0 33  0  0]]]\n(2, 3, 6)\n"
     ]
    }
   ],
   "source": [
    "# apply mask\n",
    "b *= m\n",
    "print(b)\n",
    "print(b.shape)"
   ]
  },
  {
   "cell_type": "code",
   "execution_count": null,
   "metadata": {},
   "outputs": [],
   "source": []
  }
 ]
}